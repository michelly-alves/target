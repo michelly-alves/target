{
  "cells": [
    {
      "cell_type": "code",
      "execution_count": 61,
      "metadata": {
        "colab": {
          "base_uri": "https://localhost:8080/"
        },
        "id": "3xDtAc-Fa6An",
        "outputId": "a3928061-25fa-4d43-d5c6-14d65c1de9a8"
      },
      "outputs": [
        {
          "output_type": "stream",
          "name": "stdout",
          "text": [
            "Using default Community Edition License for Colab. Get yours at: https://ampl.com/ce\n",
            "Licensed to AMPL Community Edition License for the AMPL Model Colaboratory (https://ampl.com/colab).\n"
          ]
        }
      ],
      "source": [
        "# The only 3 lines you need to install and use AMPL with any solver on Colab\n",
        "%pip install -q amplpy\n",
        "from amplpy import AMPL, ampl_notebook\n",
        "\n",
        "ampl = ampl_notebook(\n",
        "    modules=[\"coin\"],  # modules to install\n",
        "    license_uuid=\"default\",  # license to use\n",
        ")  # instantiate AMPL object and register magics"
      ]
    },
    {
      "cell_type": "code",
      "execution_count": 62,
      "metadata": {
        "id": "4oBfIvMzbnvk",
        "outputId": "795b826a-9e2f-4a5b-e4b4-7866a127807d",
        "colab": {
          "base_uri": "https://localhost:8080/"
        }
      },
      "outputs": [
        {
          "output_type": "stream",
          "name": "stdout",
          "text": [
            "Overwriting evacuacao.mod\n"
          ]
        }
      ],
      "source": [
        "%%writefile evacuacao.mod\n",
        "# Modelo de evacuação em AMPL\n",
        "\n",
        "# Parâmetros\n",
        "set Veiculos;  # Conjunto de veículos (1 a 6)\n",
        "set Familias;  # Conjunto de tipos de famílias (1 a 5)\n",
        "\n",
        "param Custo{Veiculos};          # Custo por viagem de cada veículo\n",
        "param Capacidade_Pessoas{Veiculos};  # Capacidade de transporte de pessoas por veículo\n",
        "param Capacidade_Bagagem{Veiculos};  # Capacidade de transporte de bagagem (toneladas)\n",
        "param Tempo_Viagem{Veiculos};   # Tempo de viagem por veículo (em minutos)\n",
        "param Max_Viagens{Veiculos};    # Número máximo de viagens por veículo\n",
        "param Bagagem_Total;            # Bagagem total a transportar (em toneladas)\n",
        "param Pessoas_Total;            # Pessoas totais a transportar\n",
        "param Tempo_Max;                # Tempo máximo disponível para viagens\n",
        "param Tamanho_Familia{Familias};  # Tamanho das famílias por tipo\n",
        "param Quantidade_Familias{Familias};  # Quantidade de famílias por tipo\n",
        "\n",
        "# Parâmetros de total de pessoas\n",
        "param Homens_Total;  # Total de homens\n",
        "param Mulheres_Total;  # Total de mulheres\n",
        "param Criancas_Total;  # Total de crianças\n",
        "\n",
        "# Variáveis de decisão\n",
        "var x{Veiculos} >= 0, integer;  # Número de viagens por veículo\n",
        "var y{Familias, Veiculos} >= 0, integer;  # Famílias do tipo i no veículo j\n",
        "var h{Veiculos} >= 0, integer;  # Número de homens transportados por veículo\n",
        "\n",
        "# Função objetivo: minimizar o custo total das viagens\n",
        "minimize Custo_Total:\n",
        "    sum {v in Veiculos} Custo[v] * x[v];\n",
        "\n",
        "# Restrições\n",
        "# Transporte de pessoas (famílias)\n",
        "subject to Restricao_Pessoas:\n",
        "    sum {v in Veiculos} Capacidade_Pessoas[v] * x[v] <= Pessoas_Total;\n",
        "\n",
        "# Transporte de bagagem\n",
        "subject to Restricao_Bagagem:\n",
        "    sum {v in Veiculos} Capacidade_Bagagem[v] * x[v] <= Bagagem_Total;\n",
        "\n",
        "# Tempo total disponível para viagens\n",
        "subject to Restricao_Tempo:\n",
        "    sum {v in Veiculos} Tempo_Viagem[v] * x[v] <= Tempo_Max;\n",
        "\n",
        "# Famílias alocadas por veículo respeitando a capacidade\n",
        "subject to Capacidade_Familias {v in Veiculos}:\n",
        "    sum {f in Familias} Tamanho_Familia[f] * y[f, v] <= Capacidade_Pessoas[v] * x[v];\n",
        "\n",
        "# Todas as famílias devem ser transportadas\n",
        "subject to Transporte_Familias {f in Familias}:\n",
        "    sum {v in Veiculos} y[f, v] = Quantidade_Familias[f];\n",
        "\n",
        "# Restrições para alocar homens\n",
        "subject to Restricao_Homens:\n",
        "    sum {v in Veiculos} h[v] = Homens_Total;\n",
        "\n",
        "# Restrição de tempo para cada veículo\n",
        "subject to Restricao_Tempo_Individuo {v in Veiculos}:\n",
        "    Tempo_Viagem[v] * x[v] <= Tempo_Max;\n",
        "\n",
        "# Limite de viagens para o veículo de passeio\n",
        "subject to Limite_Veiculo_Passeio {v in Veiculos: v == 1}:\n",
        "    x[v] == 1;  # Limita o veículo de passeio a apenas uma viagem\n",
        "\n",
        "# Limite de viagens para outros veículos, podendo fazer múltiplas viagens\n",
        "subject to Limite_Veiculos {v in Veiculos: v != 1}:\n",
        "    x[v] <= Max_Viagens[v];\n"
      ]
    },
    {
      "cell_type": "code",
      "execution_count": 63,
      "metadata": {
        "colab": {
          "base_uri": "https://localhost:8080/"
        },
        "id": "plPCDhdhjivI",
        "outputId": "153e3313-3f22-43dd-ffd1-c8c6ed2fbf76"
      },
      "outputs": [
        {
          "output_type": "stream",
          "name": "stdout",
          "text": [
            "Overwriting evacuacao.dat\n"
          ]
        }
      ],
      "source": [
        "%%writefile evacuacao.dat\n",
        "set Veiculos := 1 2 3 4 5 6;\n",
        "set Familias := 1 2 3 4 5;\n",
        "\n",
        "param Custo := 1 10 2 4 3 75 4 5 5 3 6 2;\n",
        "param Capacidade_Pessoas := 1 20 2 5 3 10 4 30 5 15 6 5;\n",
        "param Capacidade_Bagagem := 1 1000 2 20 3 50 4 1000 5 500 6 100;  # Multiplicado por 1000 (de toneladas para quilos)\n",
        "param Tempo_Viagem := 1 60 2 45 3 10 4 45 5 30 6 30;\n",
        "param Max_Viagens := 1 100 2 260 3 900 4 130 5 100 6 60;\n",
        "param Tempo_Max := 600;\n",
        "\n",
        "param Tamanho_Familia := 1 6 2 5 3 4 4 3 5 2;\n",
        "\n",
        "param Quantidade_Familias :=\n",
        "    1  10\n",
        "    2  25\n",
        "    3  150\n",
        "    4  450\n",
        "    5  350;\n",
        "\n",
        "# Parâmetros de total de pessoas\n",
        "param Homens_Total := 8000;  # Total de homens\n",
        "param Mulheres_Total := 7900;  # Total de mulheres\n",
        "param Criancas_Total := 1850;  # Total de crianças\n",
        "param Pessoas_Total := 17750;\n",
        "param Bagagem_Total := 177500;\n",
        "\n"
      ]
    },
    {
      "cell_type": "code",
      "source": [
        "\n",
        "%%ampl_eval\n",
        "model evacuacao.mod;\n",
        "data evacuacao.dat;\n",
        "solve;\n",
        "display x, y;"
      ],
      "metadata": {
        "id": "KezxkQTl8Zwd",
        "outputId": "41bf5316-324f-4999-d5f0-1ade32546b69",
        "colab": {
          "base_uri": "https://localhost:8080/"
        }
      },
      "execution_count": 64,
      "outputs": [
        {
          "output_type": "stream",
          "name": "stdout",
          "text": [
            "Warning:\n",
            "\tpresolve: constraint Transporte_Familias[5] cannot hold:\n",
            "\t\tbody >= 350 cannot be <= 205; difference = 145\n",
            "\tpresolve: constraint Transporte_Familias[4] cannot hold:\n",
            "\t\tbody >= 450 cannot be <= 446; difference = 4\n",
            "\tpresolve: constraint Transporte_Familias[3] cannot hold:\n",
            "\t\tbody >= 150 cannot be <= 101; difference = 49\n",
            "\tpresolve: constraint Restricao_Tempo cannot hold:\n",
            "\t\tbody <= 540 cannot be >= 1245; difference = -705\n",
            "x [*] :=\n",
            "1  1\n",
            "2  0\n",
            "3  0\n",
            "4  0\n",
            "5  0\n",
            "6  0\n",
            ";\n",
            "\n",
            "y [*,*] (tr)\n",
            ":   1   2   3   4   5    :=\n",
            "1   0   0   0   0   0\n",
            "2   0   0   0   0   0\n",
            "3   0   0   0   0   0\n",
            "4   0   0   0   0   0\n",
            "5   0   0   0   0   0\n",
            "6   0   0   0   0   0\n",
            ";\n",
            "\n"
          ]
        }
      ]
    },
    {
      "cell_type": "markdown",
      "metadata": {
        "id": "mqUbsMqcM7hD"
      },
      "source": [
        "[AMPL Website](https://ampl.com) | [AMPL Colab](https://colab.ampl.com) | [Community Edition]( https://ampl.com/ce/) | [Twitter](https://twitter.com/AMPLopt) | [LinkedIn](https://www.linkedin.com/company/ampl)\n",
        "\n",
        "[![Hits](https://h.ampl.com/https://github.com/ampl/amplcolab/blob/master/template/minimal.ipynb)](https://colab.ampl.com)"
      ]
    }
  ],
  "metadata": {
    "colab": {
      "provenance": []
    },
    "kernelspec": {
      "display_name": "Python 3",
      "language": "python",
      "name": "python3"
    },
    "language_info": {
      "codemirror_mode": {
        "name": "ipython",
        "version": 3
      },
      "file_extension": ".py",
      "mimetype": "text/x-python",
      "name": "python",
      "nbconvert_exporter": "python",
      "pygments_lexer": "ipython3",
      "version": "3.6.9"
    },
    "vscode": {
      "interpreter": {
        "hash": "ee4198aac13dae9b6fccd443041680d99c2643c4956ef7c80ff6dcc0057cb523"
      }
    }
  },
  "nbformat": 4,
  "nbformat_minor": 0
}