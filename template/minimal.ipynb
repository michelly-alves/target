{
  "cells": [
    {
      "cell_type": "code",
      "execution_count": 66,
      "metadata": {
        "colab": {
          "base_uri": "https://localhost:8080/"
        },
        "id": "3xDtAc-Fa6An",
        "outputId": "c57aa58d-8c19-41fd-e836-ce208c06c9b1"
      },
      "outputs": [
        {
          "output_type": "stream",
          "name": "stdout",
          "text": [
            "Using default Community Edition License for Colab. Get yours at: https://ampl.com/ce\n",
            "Licensed to AMPL Community Edition License for the AMPL Model Colaboratory (https://ampl.com/colab).\n"
          ]
        }
      ],
      "source": [
        "# The only 3 lines you need to install and use AMPL with any solver on Colab\n",
        "%pip install -q amplpy\n",
        "from amplpy import AMPL, ampl_notebook\n",
        "\n",
        "ampl = ampl_notebook(\n",
        "    modules=[\"coin\"],  # modules to install\n",
        "    license_uuid=\"default\",  # license to use\n",
        ")  # instantiate AMPL object and register magics"
      ]
    },
    {
      "cell_type": "code",
      "execution_count": 67,
      "metadata": {
        "id": "4oBfIvMzbnvk",
        "outputId": "c6d54b1a-964e-42a3-f3f6-6325d7b38162",
        "colab": {
          "base_uri": "https://localhost:8080/"
        }
      },
      "outputs": [
        {
          "output_type": "stream",
          "name": "stdout",
          "text": [
            "Overwriting wyndor.mod\n"
          ]
        }
      ],
      "source": [
        "%%writefile wyndor.mod\n",
        "set VEICULOS;\n",
        "\n",
        "param capacidade_pessoas {VEICULOS};\n",
        "param capacidade_bagagem {VEICULOS};\n",
        "param custo {VEICULOS};\n",
        "param tempo_viagem {VEICULOS};\n",
        "param unidades_disponiveis {VEICULOS};\n",
        "\n",
        "param total_pessoas := 17750;\n",
        "param tempo_maximo := 600;\n",
        "\n",
        "var Viagens{VEICULOS} >= 0, integer;\n",
        "\n",
        "# Função Objetivo: Minimizar o custo total\n",
        "minimize Custo_Total:\n",
        "    sum {v in VEICULOS} custo[v] * Viagens[v];\n",
        "\n",
        "# Restricao: Capacidade de transporte de pessoas\n",
        "subject to Capacidade_Pessoas:\n",
        "    sum {v in VEICULOS} capacidade_pessoas[v] * Viagens[v] >= total_pessoas;\n",
        "\n",
        "# Restricao: Capacidade de transporte de bagagem\n",
        "subject to Capacidade_Bagagem:\n",
        "    sum {v in VEICULOS} capacidade_bagagem[v] * Viagens[v] >= 177500;\n",
        "\n",
        "# Restricao: Tempo total de viagem\n",
        "subject to Tempo_Total:\n",
        "    sum {v in VEICULOS} tempo_viagem[v] * Viagens[v] <= tempo_maximo;\n",
        "\n",
        "# Restricao: Limite de unidades disponíveis\n",
        "subject to Limite_Unidades {v in VEICULOS}:\n",
        "    Viagens[v] <= unidades_disponiveis[v];"
      ]
    },
    {
      "cell_type": "code",
      "execution_count": 68,
      "metadata": {
        "colab": {
          "base_uri": "https://localhost:8080/"
        },
        "id": "plPCDhdhjivI",
        "outputId": "06fb118b-cebe-4c27-c7a5-073e64e0c5b3"
      },
      "outputs": [
        {
          "output_type": "stream",
          "name": "stdout",
          "text": [
            "Overwriting wyndor.dat\n"
          ]
        }
      ],
      "source": [
        "%%writefile wyndor.dat\n",
        "data;\n",
        "\n",
        "set VEICULOS := \"6_Ton\" \"1_4_Ton\" \"Helicoptero\" \"Onibus\" \"Micro_onibus\" \"Carro\";\n",
        "\n",
        "param capacidade_pessoas :=\n",
        "\"6_Ton\"      20\n",
        "\"1_4_Ton\"     5\n",
        "\"Helicoptero\" 10\n",
        "\"Onibus\"      30\n",
        "\"Micro_onibus\" 15\n",
        "\"Carro\"        5;\n",
        "\n",
        "param capacidade_bagagem :=\n",
        "\"6_Ton\"      1000\n",
        "\"1_4_Ton\"     20\n",
        "\"Helicoptero\" 50\n",
        "\"Onibus\"      1000\n",
        "\"Micro_onibus\" 500\n",
        "\"Carro\"        100;\n",
        "\n",
        "param custo :=\n",
        "\"6_Ton\"      10\n",
        "\"1_4_Ton\"     4\n",
        "\"Helicoptero\" 75\n",
        "\"Onibus\"      5\n",
        "\"Micro_onibus\" 3\n",
        "\"Carro\"        2;\n",
        "\n",
        "param tempo_viagem :=\n",
        "\"6_Ton\"      60\n",
        "\"1_4_Ton\"     45\n",
        "\"Helicoptero\" 10\n",
        "\"Onibus\"      45\n",
        "\"Micro_onibus\" 30\n",
        "\"Carro\"        30;\n",
        "\n",
        "param unidades_disponiveis :=\n",
        "\"6_Ton\"      10\n",
        "\"1_4_Ton\"     20\n",
        "\"Helicoptero\" 15\n",
        "\"Onibus\"      10\n",
        "\"Micro_onibus\" 5\n",
        "\"Carro\"        60;\n",
        "\n",
        "end;\n",
        "\n"
      ]
    },
    {
      "cell_type": "markdown",
      "metadata": {
        "id": "mqUbsMqcM7hD"
      },
      "source": [
        "[AMPL Website](https://ampl.com) | [AMPL Colab](https://colab.ampl.com) | [Community Edition]( https://ampl.com/ce/) | [Twitter](https://twitter.com/AMPLopt) | [LinkedIn](https://www.linkedin.com/company/ampl)\n",
        "\n",
        "[![Hits](https://h.ampl.com/https://github.com/ampl/amplcolab/blob/master/template/minimal.ipynb)](https://colab.ampl.com)"
      ]
    },
    {
      "cell_type": "code",
      "source": [
        "%%ampl_eval\n",
        "model wyndor.mod;\n",
        "data wyndor.dat;\n",
        "option solver cbc;\n",
        "solve;\n"
      ],
      "metadata": {
        "id": "FHCI15EWt2Va",
        "outputId": "85396e86-6f25-4435-8251-c039801fb9a1",
        "colab": {
          "base_uri": "https://localhost:8080/"
        }
      },
      "execution_count": 69,
      "outputs": [
        {
          "output_type": "stream",
          "name": "stdout",
          "text": [
            "Warning:\n",
            "\tpresolve: constraint Capacidade_Bagagem cannot hold:\n",
            "\t\tbody >= 177500 cannot be <= 25510; difference = 151990\n",
            "\tpresolve: constraint Capacidade_Pessoas cannot hold:\n",
            "\t\tbody >= 17750 cannot be <= 890; difference = 16860\n"
          ]
        }
      ]
    }
  ],
  "metadata": {
    "colab": {
      "provenance": []
    },
    "kernelspec": {
      "display_name": "Python 3",
      "language": "python",
      "name": "python3"
    },
    "language_info": {
      "codemirror_mode": {
        "name": "ipython",
        "version": 3
      },
      "file_extension": ".py",
      "mimetype": "text/x-python",
      "name": "python",
      "nbconvert_exporter": "python",
      "pygments_lexer": "ipython3",
      "version": "3.6.9"
    },
    "vscode": {
      "interpreter": {
        "hash": "ee4198aac13dae9b6fccd443041680d99c2643c4956ef7c80ff6dcc0057cb523"
      }
    }
  },
  "nbformat": 4,
  "nbformat_minor": 0
}